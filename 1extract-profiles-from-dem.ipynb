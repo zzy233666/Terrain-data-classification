{
 "cells": [
  {
   "cell_type": "markdown",
   "id": "fdf152c5-ae69-4dae-9db2-5e0e4598a691",
   "metadata": {},
   "source": [
    "# morph-var 1"
   ]
  },
  {
   "cell_type": "markdown",
   "id": "a57914bf-832d-4c43-927e-3cf2dc6608d8",
   "metadata": {},
   "source": [
    "## Extract landform normal profiles from a DEM"
   ]
  },
  {
   "cell_type": "markdown",
   "id": "97a6161b-8e34-4924-8016-40e2b0846c23",
   "metadata": {},
   "source": [
    "This is the first of five notebooks outlining the algorithm we used to quantify the morphologic variability of a linear landform. In this notebook, we extract landform-normal profiles using three user-provided data: a DEM of the region of interest, a polygon shapefile that can be used to crop the DEM to the sepecific lanform if desired, and a line shapefile (contained within the cropping polygon) that traces the center of the landform.\n",
    "\n",
    "The output of the notebook is a folder with text files for each landform-normal profile. Each text file has columns for the Easting, Northing, UTM Zone, and elevation of each point along the landform-normal profile. These text files are used as the data input for notebook 2."
   ]
  },
  {
   "cell_type": "markdown",
   "id": "2450c56b-9d2e-455e-bc4e-e4d1900449f1",
   "metadata": {},
   "source": [
    "### Packages and libraries"
   ]
  },
  {
   "cell_type": "code",
   "execution_count": null,
   "id": "30aba55f",
   "metadata": {},
   "outputs": [],
   "source": [
    "import pandas as pd\n",
    "import rioxarray as rxr\n",
    "import geopandas as gpd\n",
    "import numpy as np\n",
    "from shapely.geometry import mapping,Point, LineString\n",
    "import os\n",
    "import rasterio\n",
    "import pyosp\n",
    "from osgeo import gdal  # import GDAL\n",
    "import matplotlib.pyplot as plt\n",
    "\n",
    "from IPython.core.interactiveshell import InteractiveShell\n",
    "InteractiveShell.ast_node_interactivity = \"all\"\n"
   ]
  },
  {
   "cell_type": "markdown",
   "id": "35d3b1cd-35bf-4253-8b63-24e915276328",
   "metadata": {},
   "source": [
    "### Extract profile coordinates and store in text files"
   ]
  },
  {
   "cell_type": "code",
   "execution_count": null,
   "id": "94a835cb",
   "metadata": {},
   "outputs": [],
   "source": [
    "# Define paths for DEM, cropping polygon shapefile, and landform trace line shapefile\n",
    "#dem path\n",
    "dem_clipped_path =  r\"./DEM/dem7.tif\"\n",
    "#Geomorphic trajectory total element file, providing coordinate system\n",
    "landform_trace_path = r\"./DEM/GIF1.shp\"\n",
    "#dem resolution ratio\n",
    "dem_resolution=400\n",
    "#Folder for all individual terrain trajectories shp\n",
    "root_path=r\"./land_file\"\n",
    "#Obtain coordinate system\n",
    "crop_polygon = gpd.read_file(landform_trace_path)\n",
    "###Cycle each landform trajectory\n",
    "for root,dirs,files in os.walk(root_path):\n",
    "    for file in files:\n",
    "        if file.endswith(\".shp\"):\n",
    "            landform_name=os.path.splitext(file)[0]\n",
    "            landform_trace_path=os.path.join(root,file)\n",
    "            try:\n",
    "                #profiling\n",
    "                elev = pyosp.Elev_curv(landform_trace_path, dem_clipped_path, width=1000,min_elev=-5319,max_elev=8415,\n",
    "                        line_stepsize=dem_resolution,cross_stepsize=None)\n",
    "                #save jpg\n",
    "                fig, ax = plt.subplots()\n",
    "                elev.profile_plot(ax=ax, color=\"maroon\")\n",
    "                fig.savefig(\"C:/Users/user/Desktop/morph_var1/fig/\"+landform_name+\".jpg\")\n",
    "            except:\n",
    "                with open('C:/Users/user/Desktop/morph_var1/log.txt','a') as f:\n",
    "                    f.write(file+\"The trajectory is too small to draw a profile\\n\")\n",
    "                continue\n",
    "            path_shapefile=\"C:/Users/user/Desktop/morph_var1/profile_shapefile/profile_lines\"+file\n",
    "            profile_lines=[]\n",
    "            ###Draw trajectory contour map and generate shp\n",
    "            for a in range(0,len(elev.lines)):\n",
    "                line_dat=elev.lines[a]\n",
    "                print(line_dat)\n",
    "                coords=[(coord[0], coord[1]) for coord in line_dat]\n",
    "                print(coords)\n",
    "                #points= [Point(coord[0], coord[1]) for coord in line_dat]\n",
    "                lines=LineString(coords)\n",
    "                profile_lines.append(lines)\n",
    "            prof_number=np.array(range(0,len(elev.lines)))\n",
    "            distance=prof_number*dem_resolution\n",
    "\n",
    "            d = {'col1': prof_number,'col2': distance, 'geometry': profile_lines}\n",
    "            df=gpd.GeoDataFrame(d,geometry='geometry',crs=crop_polygon.crs)\n",
    "            df.to_file(path_shapefile)\n",
    "            len(df)\n",
    "            path=\"C:/Users/user/Desktop/morph_var1/\"+landform_name+'_raw_profiles/'\n",
    "            if os.path.exists(path)==False: \n",
    "                os.mkdir(path)\n",
    "            profile_numbers=list(range(0,len(elev.distance)))\n",
    "\n",
    "            ###Save coordinates as a txt file\n",
    "            profile_filenames=[landform_name+'_'+f'{a}'.zfill(6)+'.txt' for a in profile_numbers]\n",
    "\n",
    "            # Save profile files in newly created folders. The information is stored in 4 columns: Easting coordinate (m), Westing coordinate (m), elevation (m) and CRS (espg code).\n",
    "            for a in profile_numbers:\n",
    "                elevation_temp = elev.dat[a]\n",
    "                x_coord_temp=[elev.lines[a][b][0] for b in list(range(0,len(elev.lines[a])))]\n",
    "                y_coord_temp=[elev.lines[a][b][1] for b in list(range(0,len(elev.lines[a])))]\n",
    "                \n",
    "                x_coord=pd.Series(x_coord_temp)\n",
    "                y_coord=pd.Series(y_coord_temp)\n",
    "                elevation=pd.Series(elevation_temp)\n",
    "                \n",
    "                landform_profile_info = pd.concat([x_coord,y_coord,elevation],axis=1)\n",
    "                landform_profile_info.columns=('Easting','Westing','elevation')\n",
    "                \n",
    "                landform_profile_crs=pd.Series(crop_polygon.crs,name='CRS')\n",
    "                landform_profile_info=pd.concat([landform_profile_info,landform_profile_crs],axis=1)\n",
    "                \n",
    "                file=profile_filenames[a]\n",
    "                landform_profile_info.to_csv(path+file)"
   ]
  }
 ],
 "metadata": {
  "kernelspec": {
   "display_name": "Python 3 (ipykernel)",
   "language": "python",
   "name": "python3"
  },
  "language_info": {
   "codemirror_mode": {
    "name": "ipython",
    "version": 3
   },
   "file_extension": ".py",
   "mimetype": "text/x-python",
   "name": "python",
   "nbconvert_exporter": "python",
   "pygments_lexer": "ipython3",
   "version": "3.7.16"
  }
 },
 "nbformat": 4,
 "nbformat_minor": 5
}
